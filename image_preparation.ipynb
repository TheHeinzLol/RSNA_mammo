{
 "cells": [
  {
   "cell_type": "code",
   "execution_count": 3,
   "id": "a3a452bd-ed56-48fc-9fc9-fc1093e90cb2",
   "metadata": {},
   "outputs": [],
   "source": [
    "import os\n",
    "import re\n",
    "import glob\n",
    "import pydicom\n",
    "from pydicom.pixel_data_handlers import apply_windowing #\n",
    "import cv2\n",
    "import numpy as np\n",
    "from tqdm import tqdm"
   ]
  },
  {
   "cell_type": "markdown",
   "id": "7cacdd79-bd61-4950-ad35-9fe5f7ce2d45",
   "metadata": {},
   "source": [
    "1) convert without resizing\n",
    "2) cut off empty space\n",
    "3) windowing\n",
    "4) resize to 1024x768 - HxW\n"
   ]
  },
  {
   "cell_type": "code",
   "execution_count": 4,
   "id": "a440c30a-7b9a-4b0d-8054-c5bf68576fbc",
   "metadata": {},
   "outputs": [],
   "source": [
    "path_dicom = '../train_images/'\n",
    "path_png = '../png_roi/'\n",
    "images_dicom = glob.glob(path_dicom+ '*/*.dcm')"
   ]
  },
  {
   "cell_type": "markdown",
   "id": "0f0022ff-a2ac-47ad-a0ef-258707e58c02",
   "metadata": {},
   "source": [
    "### Step 1: converting dicom to grayscale png and apply windowing"
   ]
  },
  {
   "cell_type": "code",
   "execution_count": 6,
   "id": "0abb09ba-4b5f-4a83-9ec5-357b5eba8d5a",
   "metadata": {},
   "outputs": [],
   "source": [
    "def convert_dcm_to_png_windowing(path_image: str, dir_save_to: str) -> None:\n",
    "    \n",
    "    id_patient, id_img = re.findall('(\\d+)', path_image)[-2:]\n",
    "    path_save = os.path.join(dir_save_to, id_patient) \n",
    "    os.makedirs(path_save, exist_ok=True)\n",
    "        \n",
    "    dicom = pydicom.dcmread(path_image)\n",
    "    \n",
    "    img = dicom.pixel_array\n",
    "    img = apply_windowing(img, dicom) #windowing itself\n",
    "    \n",
    "    img = (img - img.min()) / (img.max() - img.min()) # to [0;1] scale\n",
    "    \n",
    "    if dicom.PhotometricInterpretation == 'MONOCHROME1':\n",
    "        img = 1 - img\n",
    "    \n",
    "    img = (img * 255).astype(np.uint8)\n",
    "        \n",
    "    cv2.imwrite(os.path.join(path_save, id_img + '.png') , img)  "
   ]
  },
  {
   "cell_type": "code",
   "execution_count": 7,
   "id": "b437b847-8532-4acc-b225-1c7631451b75",
   "metadata": {},
   "outputs": [
    {
     "name": "stderr",
     "output_type": "stream",
     "text": [
      "100%|███████████████████████████████████████████| 10/10 [00:07<00:00,  1.35it/s]\n"
     ]
    }
   ],
   "source": [
    "for image in tqdm(images_dicom[:10]): \n",
    "    convert_dcm_to_png_windowing(image, path_png)"
   ]
  },
  {
   "cell_type": "markdown",
   "id": "08ce6c20-7128-48ce-8510-b3a8a4e38255",
   "metadata": {},
   "source": [
    "### Cutting off empty regions"
   ]
  },
  {
   "cell_type": "code",
   "execution_count": 7,
   "id": "186bda2e-1b96-4315-ba24-00d5e1513c07",
   "metadata": {},
   "outputs": [],
   "source": [
    "def crop_img(image: str, dir_save_to: str) -> None:\n",
    "    \n",
    "    X = cv2.imread(image)\n",
    "    \n",
    "    # Some images have narrow exterior \"frames\" that complicate selection of the main data. Cutting off the frame\n",
    "    X = X[5:-5, 5:-5]\n",
    "    \n",
    "    # regions of non-empty pixels\n",
    "    output= cv2.connectedComponentsWithStats((X > 20).astype(np.uint8)[:, :, 0], 8, cv2.CV_32S) # connectivity 4 insted of 8 may give us more regions which we don't want\n",
    "\n",
    "    # output[0] is a number of labels\n",
    "    # output[1] is matrix of labels\n",
    "    # output[2] is stat matrix\n",
    "    # output[4] is centroid matrix\n",
    "    \n",
    "    # stats.shape == (N, 5), where N is the number of regions, 5 dimensions correspond to:\n",
    "    # left, top, width, height, area_size\n",
    "    stats = output[2]\n",
    "    \n",
    "    # finding max area which always corresponds to the breast data. \n",
    "    idx = stats[1:, 4].argmax() + 1 # starting with 1 because largest region will be the whole picture\n",
    "    x1, y1, w, h = stats[idx][:4]\n",
    "    x2 = x1 + w\n",
    "    y2 = y1 + h\n",
    "    \n",
    "    # cutting out the breast data\n",
    "    X_roi = X[y1: y2, x1: x2]\n",
    "    \n",
    "    patient_id, id_img = re.findall('(\\d+)', image)[-2:]\n",
    "    cv2.imwrite(f'{dir_save_to}/{patient_id}/{id_img}.png', X_roi[:, :, 0])\n"
   ]
  },
  {
   "cell_type": "code",
   "execution_count": 18,
   "id": "1b52d24e-836d-4b3d-907f-989802bdde95",
   "metadata": {},
   "outputs": [
    {
     "name": "stderr",
     "output_type": "stream",
     "text": [
      "100%|███████████████████████████████████████████| 10/10 [00:01<00:00,  8.09it/s]\n"
     ]
    }
   ],
   "source": [
    "images_png = glob.glob(path_png+'*/*.png')\n",
    "\n",
    "for image in tqdm(images_png):\n",
    "    crop_img(image, path_png)"
   ]
  },
  {
   "cell_type": "markdown",
   "id": "c145ac06-e040-4766-b348-d8f8ff88d7a4",
   "metadata": {},
   "source": [
    "### Resize"
   ]
  },
  {
   "cell_type": "code",
   "execution_count": 19,
   "id": "a01bb414-322e-4a65-92e7-3b228ca08240",
   "metadata": {},
   "outputs": [],
   "source": [
    "def resize_image(image: str, dir_save_to: str, size: tuple[int,int]=(768, 1024)) -> None:\n",
    "\n",
    "    img = cv2.imread(image, cv2.IMREAD_GRAYSCALE)\n",
    "    img = cv2.resize(img, dsize=size)\n",
    "    \n",
    "    patient_id, id_img = re.findall('(\\d+)', image)[-2:]\n",
    "    cv2.imwrite(f'{path_png}/{patient_id}/{id_img}.png', img)"
   ]
  },
  {
   "cell_type": "code",
   "execution_count": 20,
   "id": "048ca8a1-88f8-4eef-8d3f-7fa2ee35f52a",
   "metadata": {},
   "outputs": [
    {
     "name": "stderr",
     "output_type": "stream",
     "text": [
      "100%|███████████████████████████████████████████| 10/10 [00:00<00:00, 33.30it/s]\n"
     ]
    }
   ],
   "source": [
    "for image in tqdm(images_png):\n",
    "    resize_image(image, path_png)"
   ]
  },
  {
   "cell_type": "code",
   "execution_count": null,
   "id": "3a83d246-7a6b-45af-92ac-2742ef73364f",
   "metadata": {},
   "outputs": [],
   "source": []
  }
 ],
 "metadata": {
  "kernelspec": {
   "display_name": "Python 3 (ipykernel)",
   "language": "python",
   "name": "python3"
  },
  "language_info": {
   "codemirror_mode": {
    "name": "ipython",
    "version": 3
   },
   "file_extension": ".py",
   "mimetype": "text/x-python",
   "name": "python",
   "nbconvert_exporter": "python",
   "pygments_lexer": "ipython3",
   "version": "3.10.13"
  }
 },
 "nbformat": 4,
 "nbformat_minor": 5
}
