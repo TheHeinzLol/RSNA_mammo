{
 "cells": [
  {
   "cell_type": "code",
   "execution_count": 1,
   "id": "d56b0717-3ef5-4887-80d6-723635d2e196",
   "metadata": {},
   "outputs": [],
   "source": [
    "import numpy as np\n",
    "import torch\n",
    "import torchvision\n",
    "from torch import nn\n",
    "from torch.utils.data import DataLoader\n",
    "from torchvision.models import resnet18\n",
    "from torchvision.models import ResNet18_Weights.DEFAULT\n",
    "from torchvision.datasets import ImageFolder\n",
    "from torcheval.metrics.functional import binary_confusion_matrix \n",
    "\n",
    "device = 'cuda' if torch.cuda.is_available() else 'cpu'"
   ]
  },
  {
   "cell_type": "code",
   "execution_count": null,
   "id": "1bdd66b1-7eb0-4467-95cc-c21887408541",
   "metadata": {},
   "outputs": [],
   "source": [
    "def create_dataloader(dataset:str,\n",
    "                      batch_size: int=16,\n",
    "                      pin_memory: bool=True,\n",
    "                      shuffle: bool=True) -> torch.utils.data.DataLoader:\n",
    "\n",
    "    loader = DataLoader(\n",
    "        dataset=dataset,\n",
    "        batch_size=batch_size,\n",
    "        shuffle=shuffle,\n",
    "        pin_memory=pin_memory\n",
    "    )    \n",
    "    \n",
    "    return loader   \n",
    "\n",
    "def train_step(model: nn.Module,\n",
    "              dataloader: torch.utils.data.DataLoader,\n",
    "              loss_fn: nn.Module,\n",
    "              optimizer: torch.optim.Optimizer,\n",
    "              device: str,\n",
    "              validation: bool=False) -> float:\n",
    "    loss = 0\n",
    "    if not validation:\n",
    "        \n",
    "        model.train()\n",
    "        \n",
    "        for X, y in loader:\n",
    "            \n",
    "            X, y = X.to(device), y.to(device)\n",
    "    \n",
    "            logits = model(X)#.squeeze()\n",
    "            preds = logits.sigmoid().round()\n",
    "    \n",
    "            batch_loss = loss_fn(logits, y)\n",
    "            loss += batch_loss.item()\n",
    "            cm = binary_comfusion_matrix(preds, y)\n",
    "            \n",
    "            optimizer.zero_grad()\n",
    "            batch_loss.backward()\n",
    "            oprimizer.step()\n",
    "        \n",
    "    if validation:\n",
    "        \n",
    "        model.eval()\n",
    "        with torch.inference_mode():\n",
    "\n",
    "            for X, y in loader:\n",
    "                \n",
    "            X, y = X.to(device), y.to(device)\n",
    "\n",
    "            logits = model(X)#.squeeze()\n",
    "            preds = logints.sigmoid().round()\n",
    "\n",
    "            batch_loss = loss_fn(logits, y)\n",
    "            loss += batch_loss\n",
    "            cm = binary_comfusion_matrix(preds, y)\n",
    "            \n",
    "    return loss"
   ]
  },
  {
   "cell_type": "code",
   "execution_count": null,
   "id": "6701ae25-56ca-41bd-bdf4-5b5937f169fc",
   "metadata": {},
   "outputs": [],
   "source": [
    "# download model and weights\n",
    "weights = ResNet17_Weights.DEFAULT\n",
    "transforms_auto = weights.transforms()"
   ]
  },
  {
   "cell_type": "code",
   "execution_count": null,
   "id": "ca1640d7-c0eb-4041-b29d-4ec5e24d6bcc",
   "metadata": {},
   "outputs": [],
   "source": [
    "path_train = '../mammo/png_roi/train_images'\n",
    "path_test = '../mammo/png_roi/test_images'\n",
    "\n",
    "dataset_train = ImageFolder(path_train, transform=transforms_auto)\n",
    "dataset_test = ImageFolder(path_test, transform=transforms_auto)\n",
    "\n",
    "loader_train = create_dataloader(dataset_train)\n",
    "loader_test = create_dataloader(dataset_test, shuffle=False)"
   ]
  },
  {
   "cell_type": "code",
   "execution_count": null,
   "id": "27bc8a46-e97e-42c8-aa02-53b23fd3a0c6",
   "metadata": {},
   "outputs": [],
   "source": [
    "model = resnet18(weights=weights).to(device)\n",
    "lr = 3e-4\n",
    "optimizer = torch.optim.SGD(model.parameters(), lr=lr)\n",
    "loss_fn = nn.BCEWithLogitsLoss()"
   ]
  },
  {
   "cell_type": "code",
   "execution_count": null,
   "id": "9fb68fa6-4cfc-42ba-9887-3ee218fb41ed",
   "metadata": {},
   "outputs": [],
   "source": [
    "n_epochs = 1\n",
    "\n",
    "for epoch in tqdm(range(n_epochs)):\n",
    "\n",
    "    print(f'Epoch #{epoch+1}')\n",
    "    \n",
    "    train_loss = 0\n",
    "    test_loss = 0\n",
    "    train_loss += train_step(model, loader_train, loss_fn, optimizer, device)\n",
    "    test_loss += train_step(model, loader_test, loss_fn, optimizer, device)\n",
    "\n",
    "    if epoch % 5 == 0:\n",
    "        print(f'Train loss: [{loss_train}] Test loss: [{loss_test}]')"
   ]
  },
  {
   "cell_type": "code",
   "execution_count": 2,
   "id": "80f070ee-7177-4b1a-8d56-faa9c8908910",
   "metadata": {},
   "outputs": [
    {
     "ename": "SyntaxError",
     "evalue": "'tuple' is an illegal expression for augmented assignment (1568998929.py, line 5)",
     "output_type": "error",
     "traceback": [
      "\u001b[0;36m  Cell \u001b[0;32mIn[2], line 5\u001b[0;36m\u001b[0m\n\u001b[0;31m    a, b += ass(2)\u001b[0m\n\u001b[0m    ^\u001b[0m\n\u001b[0;31mSyntaxError\u001b[0m\u001b[0;31m:\u001b[0m 'tuple' is an illegal expression for augmented assignment\n"
     ]
    }
   ],
   "source": [
    "a = 0\n",
    "b = 0\n",
    "def ass(a):\n",
    "    return a*2, a*3\n",
    "a, b += ass(2)\n",
    "a, b"
   ]
  },
  {
   "cell_type": "code",
   "execution_count": null,
   "id": "b1a2f8da-c8a7-45a3-be37-f4f78d7fb87e",
   "metadata": {},
   "outputs": [],
   "source": []
  }
 ],
 "metadata": {
  "kernelspec": {
   "display_name": "Python 3 (ipykernel)",
   "language": "python",
   "name": "python3"
  },
  "language_info": {
   "codemirror_mode": {
    "name": "ipython",
    "version": 3
   },
   "file_extension": ".py",
   "mimetype": "text/x-python",
   "name": "python",
   "nbconvert_exporter": "python",
   "pygments_lexer": "ipython3",
   "version": "3.10.13"
  }
 },
 "nbformat": 4,
 "nbformat_minor": 5
}
